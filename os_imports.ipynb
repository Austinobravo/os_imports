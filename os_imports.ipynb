{
 "cells": [
  {
   "cell_type": "code",
   "execution_count": 1,
   "metadata": {},
   "outputs": [
    {
     "name": "stdout",
     "output_type": "stream",
     "text": [
      "c:\\Users\\E\n"
     ]
    }
   ],
   "source": [
    "import os\n",
    "working_dir=os.getcwd()\n",
    "\n",
    "print(working_dir)"
   ]
  },
  {
   "cell_type": "code",
   "execution_count": 2,
   "metadata": {},
   "outputs": [
    {
     "name": "stdout",
     "output_type": "stream",
     "text": [
      "c:\\Users\\E\n"
     ]
    }
   ],
   "source": [
    "change_dir = os.chdir('c:/Users/E/Desktop')\n",
    "print(working_dir)"
   ]
  },
  {
   "cell_type": "code",
   "execution_count": 3,
   "metadata": {},
   "outputs": [
    {
     "name": "stdout",
     "output_type": "stream",
     "text": [
      "['.ipynb_checkpoints', '07088375674.pdf', 'Adobe Illustrator 2020.lnk', 'Adobe Lightroom Classic.lnk', 'Adobe Photoshop 2020.lnk', 'Agnexe', 'algorithms', 'app.py', 'Audio_Converter', 'Austine - Chrome.lnk', 'Austine Caesar (H) - Chrome.lnk', 'c', 'CodeBlocks.lnk', 'data', 'desktop.ini', 'django setup', 'django_mfa2_example-main', 'django_react', 'Docker Desktop.lnk', 'Drf_Course', 'Ecommerce', 'ecommerce_js', 'env', 'excel', 'flaskapp', 'flask_app', 'Folder', 'github_readme.txt', 'hello.c', 'hello.exe', 'home.html', 'HTTrack Website Copier.lnk', 'java', 'journals', 'js', 'Login', 'mfon', 'Microsoft Office Access 2007.lnk', 'Microsoft Office Excel 2007.lnk', 'Microsoft Office Groove 2007.lnk', 'Microsoft Office InfoPath 2007.lnk', 'Microsoft Office OneNote 2007.lnk', 'Microsoft Office Outlook 2007.lnk', 'Microsoft Office PowerPoint 2007.lnk', 'Microsoft Office Publisher 2007.lnk', 'Microsoft Office Word 2007.lnk', 'Mosh_machine_learning.ipynb', 'music.csv', 'My django project', 'Opera Browser.lnk', 'os_imports.ipynb', 'P2P', 'patra - Chrome.lnk', 'Postman.lnk', 'PotPlayer.lnk', 'Projects', 'react_app', 'React_Django', 'requirements.txt', 'Rudeboy - RudyKillus (24Naijamuzic.com)', 'shop', 'sql', 'stripe', 'Transfer', 'traversy_react_course', 'vendor', 'venv', 'vgsales.csv', 'Visual Studio Code.lnk', 'vunoklang', 'wmplayer - Shortcut.lnk', 'WordWeb.lnk', 'YT2MP3', \"Zuma's Revenge!.lnk\"]\n"
     ]
    }
   ],
   "source": [
    "list_dir = os.listdir()\n",
    "print(list_dir)"
   ]
  },
  {
   "cell_type": "code",
   "execution_count": 4,
   "metadata": {},
   "outputs": [],
   "source": [
    "make_dir = os.mkdir('Directory-name')\n",
    "make_dir_and_sub_dirs = os.makedirs('Directory-name/Sub-directoy')"
   ]
  },
  {
   "cell_type": "code",
   "execution_count": null,
   "metadata": {},
   "outputs": [],
   "source": [
    "remove_dir = os.rmdir('Directory_name')\n",
    "remove_dir_and_sub = os.removedirs('Directory_name/subs')"
   ]
  },
  {
   "cell_type": "code",
   "execution_count": null,
   "metadata": {},
   "outputs": [],
   "source": [
    "rename = os.rename('agne-xe', 'Agnexe')\n",
    "print(list_dir)"
   ]
  },
  {
   "cell_type": "code",
   "execution_count": 7,
   "metadata": {},
   "outputs": [
    {
     "name": "stdout",
     "output_type": "stream",
     "text": [
      "os.stat_result(st_mode=33206, st_ino=7881299347924461, st_dev=1278651686, st_nlink=1, st_uid=0, st_gid=0, st_size=131, st_atime=1690468004, st_mtime=1688991681, st_ctime=1688980443)\n"
     ]
    }
   ],
   "source": [
    "content_inside  = os.stat('hello.c')\n",
    "print(content_inside)"
   ]
  },
  {
   "cell_type": "code",
   "execution_count": 8,
   "metadata": {},
   "outputs": [
    {
     "name": "stdout",
     "output_type": "stream",
     "text": [
      "C:\n"
     ]
    }
   ],
   "source": [
    "print(os.environ.get('HOMEDRIVE'))"
   ]
  },
  {
   "cell_type": "code",
   "execution_count": 9,
   "metadata": {},
   "outputs": [
    {
     "name": "stdout",
     "output_type": "stream",
     "text": [
      "c:\\Users\\E\\Desktop\\os.txt\n"
     ]
    }
   ],
   "source": [
    "file_Path = os.path.join(os.getcwd(), 'os.txt')\n",
    "print(file_Path)"
   ]
  },
  {
   "cell_type": "code",
   "execution_count": 10,
   "metadata": {},
   "outputs": [
    {
     "name": "stdout",
     "output_type": "stream",
     "text": [
      "['.ipynb_checkpoints', '07088375674.pdf', 'Adobe Illustrator 2020.lnk', 'Adobe Lightroom Classic.lnk', 'Adobe Photoshop 2020.lnk', 'Agnexe', 'algorithms', 'app.py', 'Audio_Converter', 'Austine - Chrome.lnk', 'Austine Caesar (H) - Chrome.lnk', 'c', 'CodeBlocks.lnk', 'data', 'desktop.ini', 'Directory-name', 'django setup', 'django_mfa2_example-main', 'django_react', 'Docker Desktop.lnk', 'Drf_Course', 'Ecommerce', 'ecommerce_js', 'env', 'excel', 'flaskapp', 'flask_app', 'Folder', 'github_readme.txt', 'hello.c', 'hello.exe', 'home.html', 'HTTrack Website Copier.lnk', 'java', 'journals', 'js', 'Login', 'mfon', 'Microsoft Office Access 2007.lnk', 'Microsoft Office Excel 2007.lnk', 'Microsoft Office Groove 2007.lnk', 'Microsoft Office InfoPath 2007.lnk', 'Microsoft Office OneNote 2007.lnk', 'Microsoft Office Outlook 2007.lnk', 'Microsoft Office PowerPoint 2007.lnk', 'Microsoft Office Publisher 2007.lnk', 'Microsoft Office Word 2007.lnk', 'Mosh_machine_learning.ipynb', 'music.csv', 'My django project', 'Opera Browser.lnk', 'os_imports.ipynb', 'P2P', 'patra - Chrome.lnk', 'Postman.lnk', 'PotPlayer.lnk', 'Projects', 'react_app', 'React_Django', 'requirements.txt', 'Rudeboy - RudyKillus (24Naijamuzic.com)', 'shop', 'sql', 'stripe', 'Transfer', 'traversy_react_course', 'vendor', 'venv', 'vgsales.csv', 'Visual Studio Code.lnk', 'vunoklang', 'wmplayer - Shortcut.lnk', 'WordWeb.lnk', 'YT2MP3', \"Zuma's Revenge!.lnk\"]\n"
     ]
    }
   ],
   "source": [
    "print(os.listdir())"
   ]
  },
  {
   "cell_type": "code",
   "execution_count": 15,
   "metadata": {},
   "outputs": [
    {
     "name": "stdout",
     "output_type": "stream",
     "text": [
      "('/e/f/g', 'text')\n"
     ]
    }
   ],
   "source": [
    "split = os.path.split('/e/f/g/text')\n",
    "print(split)"
   ]
  },
  {
   "cell_type": "code",
   "execution_count": 18,
   "metadata": {},
   "outputs": [
    {
     "name": "stdout",
     "output_type": "stream",
     "text": [
      "True\n"
     ]
    }
   ],
   "source": [
    "verify = os.path.exists('c://react/')\n",
    "print(verify)"
   ]
  },
  {
   "cell_type": "code",
   "execution_count": 29,
   "metadata": {},
   "outputs": [
    {
     "name": "stdout",
     "output_type": "stream",
     "text": [
      "False\n"
     ]
    }
   ],
   "source": [
    "verify_file = os.path.isfile('c://react/data/react-db.json')\n",
    "print(verify_file)"
   ]
  },
  {
   "cell_type": "code",
   "execution_count": 34,
   "metadata": {},
   "outputs": [
    {
     "name": "stdout",
     "output_type": "stream",
     "text": [
      "('c/hello', '.cf')\n"
     ]
    }
   ],
   "source": [
    "splittext_from_extension = os.path.splitext('c/hello.cf')\n",
    "print(splittext_from_extension)"
   ]
  },
  {
   "cell_type": "code",
   "execution_count": null,
   "metadata": {},
   "outputs": [],
   "source": []
  }
 ],
 "metadata": {
  "kernelspec": {
   "display_name": "Python 3",
   "language": "python",
   "name": "python3"
  },
  "language_info": {
   "codemirror_mode": {
    "name": "ipython",
    "version": 3
   },
   "file_extension": ".py",
   "mimetype": "text/x-python",
   "name": "python",
   "nbconvert_exporter": "python",
   "pygments_lexer": "ipython3",
   "version": "3.10.5"
  },
  "orig_nbformat": 4
 },
 "nbformat": 4,
 "nbformat_minor": 2
}
